{
 "cells": [
  {
   "cell_type": "markdown",
   "metadata": {
    "id": "z1jtKtMZH-UP"
   },
   "source": [
    "#Data Streaming Algorithms - HW1"
   ]
  },
  {
   "cell_type": "markdown",
   "metadata": {
    "id": "zJUFvWFCH_Ut"
   },
   "source": [
    "##Question 1 - Sampling"
   ]
  },
  {
   "cell_type": "markdown",
   "metadata": {
    "id": "RBOAHAlBybgs"
   },
   "source": [
    "$\\textbf{The Algorithm}$\\\n",
    "We will suggest a version of the weighted reservoir sampling algorithm:\\\n",
    "\\\n",
    "• Init a tuple $(R,W_s) \\rightarrow (0,0)$\\\n",
    "  $R$ - will save the sampled element $a_n$ \\\n",
    "  $W_s$ - will save the sum of all the elements from the stream\\\n",
    "\\\n",
    "For each new incoming element $a_i$ we will do:\\\n",
    "• Update $W_s \\leftarrow W_s + a_i$\\\n",
    "• Randomize a variable from a uniform distribution $r \\leftarrow Uniform(0, 1)$\\\n",
    "• Replace the sample in the reservoir if $r < \\frac{a_i}{W_s}$\\\n",
    "\\\n",
    "\\\n",
    "To show the correctness of the algorithm we want to show that after the stream is over the final element in the reservoir $R$ is proportional to it's size $(a_i)$; or to be more accurate, we will show that $P(R=a_i) = \\frac{a_i}{\\sum_{j=0}^{n}a_j}$\\\n",
    "\\\n",
    "$\\textbf{Proof by induction}$\n",
    "####The Base n=1\n",
    "$P(R=a_1)=\\frac{a_1}{0+a_1}=1 \\rightarrow$ first element is always sampled. \\\n",
    "\n",
    "####The Induction Step\n",
    "Assuming the probability of sampling $a_i$ at time n=k is $P(R_k=a_i) = \\frac{a_i}{\\sum_{j=0}^{k}a_j}$  \\\n",
    "we will show that the probability of sampling $a_{k+1}$ at time n=k+1 is $(R_{k+1}=a_{k+1}) = \\frac{a_{k+1}}{\\sum_{j=0}^{k+1}a_j}$ \\\n",
    "and the probability to keep $a_i$ at time k+1 is $(R_{k+1}=a_i) = \\frac{a_i}{\\sum_{j=0}^{k+1}a_j}$ \\\n",
    "\\\n",
    "At time k+1 the algorithm will sample $a_{k+1}$ with probability $P(R_{k+1}=a_{k+1})=\\frac{a_{k+1}}{a_{k+1} + \\sum_{j=0}^{k}a_j} = \\frac{a_{k+1}}{\\sum_{j=0}^{k+1}a_j}$\\\n",
    "And it will have the previous element in the reservoir $a_i$ with probability \n",
    "$P(R_{k+1}=a_i) = P(R_{k}=a_i)(1-P(R_{k+1}=a_{k+1})) \n",
    "= \\big(\\frac{a_i}{\\sum_{j=0}^{k}a_j})\\cdot \\big(1-\\frac{a_{k+1}}{\\sum_{j=0}^{k+1}a_j}) \n",
    "= \\big(\\frac{a_i}{\\sum_{j=0}^{k}a_j}) \\cdot \\big(\\frac{\\sum_{j=0}^{k+1}a_j -a_{k+1}}{\\sum_{j=0}^{k+1}a_j}) \n",
    "= \\big(\\frac{a_i}{\\sum_{j=0}^{k}a_j}) \\cdot \\big(\\frac{\\sum_{j=0}^{k}a_j}{\\sum_{j=0}^{k+1}a_j}) = \\frac{a_i}{\\sum_{j=0}^{k+1}a_j}$\\\n",
    "* We are assuming here that for $i \\leq k \\space$, $P(R_{k+1}=a_i\\space | \\space R_k \\neq a_i)=0$  \n",
    "\\\n",
    "\\\n",
    "$\\textbf{Sketch size}$\\\n",
    "At any time, we will need to save $R$ and $W_s$ so without getting into the analysis by the bit we will have $O(2)$ \n",
    "\n"
   ]
  },
  {
   "cell_type": "markdown",
   "metadata": {
    "id": "YduuBDj9H_42"
   },
   "source": [
    "##Question 2 - Morris"
   ]
  },
  {
   "cell_type": "markdown",
   "metadata": {
    "id": "9vuKai5B9exW"
   },
   "source": [
    "$\\textbf{The Algorithm}$\\\n",
    "The algorithm that can describe Elinoy's proposal is the Morris algorithm with a small adjustment:\\\n",
    "• Initialize the counter X=0\\\n",
    "• When a positive item arrives (login), increase X by 1 with probability $\\frac{1}{2^{x}}$\\\n",
    "• When a negative item arrives (logout), decrease the counter X by 1 (and down  to 0) with probability $\\frac{1}{2^{x-1}}$\\\n",
    "• Otherwise, maintain the counter with its previous value X\\\n",
    "\\\n",
    "The final estimator will be $\\hat{n} = 2^{x}-1$\\\n",
    "\\\n",
    "$\\textbf{Proof by induction}$\\\n",
    "Since the algorithm was kept the same along with the estimator for positive events, the unbiase was proven in class, $E\\big(2^{x}-1\\big) = n \\Rightarrow E\\big(2^{x}\\big) = n+1\\space $  for positive events.\\\n",
    "We will show that $E\\big(2^{x}\\big) = n+1$ for negative events by induction.\\\n",
    "We would like to show that if at time k the expression $E\\big(2^{x_k}\\big) = k+1$ holds, then at time k+1 given a negative event the counter will decrease, meaning we want to show that $E\\big(2^{x_{k+1}}\\big) = (k+1)-1 = n$\n",
    "####The Base-\n",
    "For $k=1$  (can be only positive event), $X_1=1 \\Rightarrow  E\\big(2^{1}\\big) = 2 = 1+1$\\\n",
    "For  $k=2$  (given a negative event), $X_2=0$ in probability $P=\\frac{1}{2^{1-1}}=1 \\Rightarrow E\\big(2^{x_2}\\big) = E\\big(2^{0}\\big) = 1 = (1+1)-1 =1$\n",
    "####The induction step-\n",
    "Assuming $E\\big(2^{x_k}\\big) = k+1 \\space $ given a negative event,\n",
    "we will show that $E\\big(2^{x_{k+1}}\\big) = k+1-1 = k $ \n",
    "\n",
    "$E\\big(2^{x_{k+1}}\\big)  \n",
    "=\\sum\\limits_{j=0}^{\\infty} E\\big(2^{x_{k+1}} \\space | \\space x_k=j\\big)Pr(x_k=j)\n",
    "=\\sum\\limits_{j=0}^{\\infty}Pr(x_k=j)(2^{j-1}\\frac{1}{2^{j-1}}+2^{j}(1-\\frac{1}{2^{j-1}}))\n",
    "=\\sum\\limits_{j=0}^{\\infty}Pr(x_k=j)(1+2^{j}-2)\n",
    "=\\sum\\limits_{j=0}^{\\infty}Pr(x_k=j)(2^{j}-1)\n",
    "=\\sum\\limits_{j=0}^{\\infty}Pr(x_k=j)2^{j}-\\sum\\limits_{j=0}^{\\infty}Pr(x_k=j) = E\\big(2^{x_{k}}\\big)-1 = k+1-1 = k\n",
    "$\\\n",
    "\\\n",
    "In the Algorithm the X counter will freeze at 0 in case X=0 with negative events.\n",
    "\\\n",
    "\\\n",
    "$\\textbf{Sketch size}$\\\n",
    "In case of n logout events after n login events the counter is not necessarily 0, there is some probability that it will be larger and therefore in practice we didn't get rid of the $O(log log(n))$ bits.\n"
   ]
  },
  {
   "cell_type": "markdown",
   "metadata": {
    "id": "KNCFsewek71f"
   },
   "source": [
    "##Question 3 - F2 estimator (AMS)\n"
   ]
  },
  {
   "cell_type": "markdown",
   "metadata": {
    "id": "GlEQChytL-Rl"
   },
   "source": [
    "### imports"
   ]
  },
  {
   "cell_type": "code",
   "execution_count": null,
   "metadata": {
    "id": "HxAw-QK2LZPz"
   },
   "outputs": [],
   "source": [
    "import numpy as np\n",
    "import matplotlib.pyplot as plt\n",
    "import psutil"
   ]
  },
  {
   "cell_type": "markdown",
   "metadata": {
    "id": "FbLUV4AbMB2d"
   },
   "source": [
    "### initialization"
   ]
  },
  {
   "cell_type": "code",
   "execution_count": null,
   "metadata": {
    "id": "BhnbmLj0LcQ6"
   },
   "outputs": [],
   "source": [
    "iterations = 50\n",
    "delta = 0.99\n",
    "\n",
    "# build stream, assert stream size and unique elements, compute real F2, and init results dictionary\n",
    "def inititalization():\n",
    "    stream, stream_size, unique_elements, elements, counts = build_stream()\n",
    "    assert_stream_is_valid(stream, stream_size, unique_elements)\n",
    "    real_F2 = compute_real_F2(counts)\n",
    "    results = init_results_dict()\n",
    "    return results, elements, counts, real_F2\n",
    "\n",
    "def build_stream():\n",
    "    stream_size = 10 ** 6\n",
    "    unique_elements = 10 ** 4\n",
    "    distribution = np.abs(np.random.normal(loc=0.5, scale=0.1, size=unique_elements))\n",
    "    distribution_sum = np.sum(distribution)\n",
    "    stream = np.random.choice(np.arange(unique_elements, dtype=int), size=stream_size, replace=True,\n",
    "                          p=distribution / distribution_sum)\n",
    "    elements, counts = np.unique(stream, return_counts=True)\n",
    "    # plt.hist(distribution/distribution_sum, bins=100)\n",
    "    # plt.show()\n",
    "    # plt.plot(elements, counts)\n",
    "    # plt.show()\n",
    "    return stream, stream_size, unique_elements, elements, counts\n",
    "\n",
    "def assert_stream_is_valid(stream, stream_size, unique_elements):\n",
    "    assert len(stream) >= stream_size\n",
    "    assert len(set(stream)) >= unique_elements\n",
    "\n",
    "def compute_real_F2(counts):\n",
    "    f2 = np.sum(counts ** 2)\n",
    "    return f2\n",
    "\n",
    "def set_hash(elements):\n",
    "    hash_stream = np.random.choice(np.asarray([-1, 1]), size=elements.shape)\n",
    "    return hash_stream\n",
    "\n",
    "def init_results_dict():\n",
    "    results = {}\n",
    "    alpha_copies = [10, 25, 50]\n",
    "    beta_copies = [0, 10, 50]\n",
    "    results[(0, 0)] = (0, 0, 0, 0, 0, 0)\n",
    "\n",
    "    for beta_copy in beta_copies:\n",
    "        for alpha_copy in alpha_copies:\n",
    "            results[(alpha_copy, beta_copy)] = (0, 0, 0, 0, 0, 0)\n",
    "    return results\n",
    "\n",
    "def print_result(alpha_copies, beta_copies, mean, normalized_variance, epsilon, relative_mean_error,\n",
    "                 memory_usage, version):\n",
    "    print(\n",
    "        f'############### {version} - {alpha_copies} alpha copies, {beta_copies} beta copies ###############\\n'\n",
    "        f'mean: {mean}, \\n'\n",
    "        f'normalized_variance: {normalized_variance} \\n'\n",
    "        f'epsilon: {epsilon}, \\n'\n",
    "        f'relative_mean_error: {relative_mean_error}\\n'\n",
    "        f'memory_usage: {memory_usage}\\n\\n')"
   ]
  },
  {
   "cell_type": "markdown",
   "metadata": {
    "id": "AB5cCuohMIBP"
   },
   "source": [
    "### alpha version"
   ]
  },
  {
   "cell_type": "code",
   "execution_count": null,
   "metadata": {
    "id": "xAjFNVSyLcVz"
   },
   "outputs": [],
   "source": [
    "def alpha_version(counts, elements, iterations):\n",
    "    real_F2 = compute_real_F2(counts)\n",
    "    estimators = []\n",
    "    errors = []\n",
    "    for _ in range(0, iterations):\n",
    "        hash_stream = set_hash(elements)\n",
    "        z = np.sum(counts * hash_stream)\n",
    "        alpha_estimator = z ** 2\n",
    "        estimators.append(alpha_estimator)\n",
    "        error = np.abs((alpha_estimator - real_F2) / real_F2)\n",
    "        errors.append(error)\n",
    "    mean = np.mean(estimators)\n",
    "    normalized_variance = np.var(estimators) / real_F2\n",
    "    epsilon = np.sqrt(1 / delta)\n",
    "    relative_mean_error = np.mean(errors)\n",
    "    memory_usage = psutil.virtual_memory().cached\n",
    "    return estimators, mean, normalized_variance, epsilon, relative_mean_error, memory_usage\n",
    "\n",
    "def run_alpha_version(results, elements, counts):\n",
    "    alpha_copies = 0\n",
    "    beta_copies = 0\n",
    "    estimators, mean, normalized_variance, epsilon, relative_mean_error, memory_usage = alpha_version(counts,\n",
    "                                                                                                          elements,\n",
    "                                                                                                          iterations)\n",
    "    results[(alpha_copies, beta_copies)] = (mean, normalized_variance, relative_mean_error, memory_usage, epsilon, 1)\n",
    "    print_result(alpha_copies, beta_copies, mean, normalized_variance, epsilon, relative_mean_error, memory_usage, \"ALPHA VERSION\")\n"
   ]
  },
  {
   "cell_type": "markdown",
   "metadata": {
    "id": "-k2qJihkMGS4"
   },
   "source": [
    "### beta version"
   ]
  },
  {
   "cell_type": "code",
   "execution_count": null,
   "metadata": {
    "id": "cFPdF3y8Lcaq"
   },
   "outputs": [],
   "source": [
    "def beta_version(alpha_copies, counts, elements, iterations):\n",
    "    real_F2 = compute_real_F2(counts)\n",
    "    beta_estimators = []\n",
    "    errors = []\n",
    "    for _ in range(0, iterations):\n",
    "        alpha_mean_estimators = []\n",
    "        for _ in range(0, alpha_copies):\n",
    "            alpha_estimators, alpha_mean, normalized_variance, epsilon, relative_mean_error, memory_usage = alpha_version(\n",
    "                counts, elements, 1)\n",
    "            alpha_mean_estimators.append(alpha_mean)\n",
    "        beta_estimator = np.mean(alpha_mean_estimators)\n",
    "        beta_estimators.append(beta_estimator)\n",
    "        error = np.abs((beta_estimator - real_F2) / real_F2)\n",
    "        errors.append(error)\n",
    "    beta_mean = np.mean(beta_estimators)\n",
    "    beta_normalized_variance = np.var(beta_estimators) / real_F2\n",
    "    epsilon = np.sqrt(1 / (alpha_copies * delta))\n",
    "    relative_mean_error = np.mean(errors)\n",
    "    memory_usage = psutil.virtual_memory().cached\n",
    "    return beta_estimators, beta_mean, beta_normalized_variance, epsilon, relative_mean_error, memory_usage\n",
    "\n",
    "def run_beta_version(results, elements, counts):\n",
    "    for alpha_copies in [10, 25, 50]:\n",
    "        beta_copies = 0\n",
    "        estimators, mean, normalized_variance, epsilon, relative_mean_error, memory_usage = beta_version(\n",
    "            alpha_copies, counts,\n",
    "            elements, iterations)\n",
    "        results[(alpha_copies, beta_copies)] = (mean, normalized_variance, relative_mean_error, memory_usage, epsilon, alpha_copies)\n",
    "        print_result(alpha_copies, beta_copies, mean, normalized_variance, epsilon, relative_mean_error,\n",
    "                         memory_usage, \"BETA VERSION\")"
   ]
  },
  {
   "cell_type": "markdown",
   "metadata": {
    "id": "MNPyarFoMMLN"
   },
   "source": [
    "###final version"
   ]
  },
  {
   "cell_type": "code",
   "execution_count": null,
   "metadata": {
    "id": "pdS1DDe2Lcfi"
   },
   "outputs": [],
   "source": [
    "def final_version(beta_copies, alpha_copies, counts, elements, iterations):\n",
    "    real_F2 = compute_real_F2(counts)\n",
    "    final_estimators = []\n",
    "    errors = []\n",
    "    for _ in range(0, iterations):\n",
    "        beta_mean_estimators = []\n",
    "        for _ in range(0, beta_copies):\n",
    "            beta_estimators, beta_mean, normalized_variance, beta_epsilon, relative_mean_error, memory_usage = beta_version(\n",
    "                alpha_copies, counts, elements, 1)\n",
    "            beta_mean_estimators.append(beta_mean)\n",
    "        final_estimator = np.mean(beta_mean_estimators)\n",
    "        final_estimators.append(final_estimator)\n",
    "        error = np.abs((final_estimator - real_F2) / real_F2)\n",
    "        errors.append(error)\n",
    "    final_mean = np.mean(final_estimators)\n",
    "    final_normalized_variance = np.var(final_estimators) / real_F2\n",
    "    epsilon = np.sqrt(1 / (beta_copies * alpha_copies * delta))\n",
    "    relative_mean_error = np.mean(errors)\n",
    "    memory_usage = psutil.virtual_memory().cached\n",
    "    return final_estimators, final_mean, final_normalized_variance, epsilon, relative_mean_error, memory_usage\n",
    "\n",
    "def run_final_version(results, elements, counts):\n",
    "    for alpha_copies in [10, 25, 50]:\n",
    "        for beta_copies in [10, 50]:\n",
    "            estimators, mean, normalized_variance, epsilon, relative_mean_error, memory_usage = final_version(\n",
    "                beta_copies,\n",
    "                alpha_copies,\n",
    "                counts, elements, iterations)\n",
    "            results[(alpha_copies, beta_copies)] = (mean, normalized_variance, relative_mean_error, memory_usage, epsilon, alpha_copies * beta_copies)\n",
    "            print_result(alpha_copies, beta_copies, mean, normalized_variance, epsilon, relative_mean_error,\n",
    "                             memory_usage, \"FINAL VERSION\")"
   ]
  },
  {
   "cell_type": "markdown",
   "metadata": {
    "id": "pk7ka_yBMOBW"
   },
   "source": [
    "### plots"
   ]
  },
  {
   "cell_type": "code",
   "execution_count": null,
   "metadata": {
    "id": "Q-iLAUbyLoiD"
   },
   "outputs": [],
   "source": [
    "def plot_results(results, real_F2):\n",
    "    mean = list(x[0] for x in list(results.values()))\n",
    "    var = list(x[1] for x in list(results.values()))\n",
    "    error = list(x[2] for x in list(results.values()))\n",
    "    memory = list(x[3] for x in list(results.values()))\n",
    "    epsilon = list(x[4] for x in list(results.values()))\n",
    "    storage = list(x[5] for x in list(results.values()))\n",
    "\n",
    "    x_axis = list(str(x) for x in list(results.keys()))\n",
    "    y_axis = [mean, var, error, memory, epsilon, storage]\n",
    "\n",
    "    plt.rcParams['figure.figsize'] = [20, 10]\n",
    "    fig, axs = plt.subplots(3, 2, constrained_layout=True)\n",
    "    axs[0, 0].plot(x_axis, y_axis[0], 'b', x_axis, [real_F2] * 10, 'r--')\n",
    "    axs[0, 0].plot(real_F2, color='r', linestyle='-')\n",
    "    axs[0, 0].set_title('Mean')\n",
    "    axs[0, 1].plot(x_axis, y_axis[1], 'tab:orange')\n",
    "    axs[0, 1].set_title('Normalized Variance')\n",
    "    axs[1, 0].plot(x_axis, y_axis[2], 'tab:green')\n",
    "    axs[1, 0].set_title('Relative Error')\n",
    "    axs[1, 1].plot(x_axis, y_axis[3], 'tab:red')\n",
    "    axs[1, 1].set_title('Memory Cache')\n",
    "    axs[2, 0].plot(x_axis, y_axis[4])\n",
    "    axs[2, 0].set_title('Epsilon')\n",
    "    axs[2, 1].plot(x_axis, y_axis[5], 'k')\n",
    "    axs[2, 1].set_title('Storage Copies')\n",
    "    \n",
    "    for ax in axs.flat:\n",
    "        ax.set(xlabel='(alpha copies, beta copies)', ylabel='value')\n",
    "    plt.show()"
   ]
  },
  {
   "cell_type": "markdown",
   "metadata": {
    "id": "-Q5cAVFfMPnI"
   },
   "source": [
    "### RUN ALL"
   ]
  },
  {
   "cell_type": "code",
   "execution_count": null,
   "metadata": {
    "colab": {
     "base_uri": "https://localhost:8080/",
     "height": 1000
    },
    "id": "iErzlulILopS",
    "outputId": "e16a109c-0444-4309-891a-5eb15ae955f4"
   },
   "outputs": [
    {
     "name": "stdout",
     "output_type": "stream",
     "text": [
      "############### ALPHA VERSION - 0 alpha copies, 0 beta copies ###############\n",
      "mean: 119103622.32, \n",
      "normalized_variance: 136654747.04457968 \n",
      "epsilon: 1.005037815259212, \n",
      "relative_mean_error: 0.947251003318877\n",
      "memory_usage: 1918386176\n",
      "\n",
      "\n",
      "############### BETA VERSION - 10 alpha copies, 0 beta copies ###############\n",
      "mean: 113005100.784, \n",
      "normalized_variance: 22320349.695877444 \n",
      "epsilon: 0.3178208630818641, \n",
      "relative_mean_error: 0.3624893349806551\n",
      "memory_usage: 1918386176\n",
      "\n",
      "\n",
      "############### BETA VERSION - 25 alpha copies, 0 beta copies ###############\n",
      "mean: 103974799.6928, \n",
      "normalized_variance: 5830229.552266572 \n",
      "epsilon: 0.20100756305184242, \n",
      "relative_mean_error: 0.19310641609634527\n",
      "memory_usage: 1918386176\n",
      "\n",
      "\n",
      "############### BETA VERSION - 50 alpha copies, 0 beta copies ###############\n",
      "mean: 105995230.6528, \n",
      "normalized_variance: 3795700.4610523386 \n",
      "epsilon: 0.1421338109037403, \n",
      "relative_mean_error: 0.15394100467289498\n",
      "memory_usage: 1918390272\n",
      "\n",
      "\n",
      "############### FINAL VERSION - 10 alpha copies, 10 beta copies ###############\n",
      "mean: 103530824.2288, \n",
      "normalized_variance: 2571761.747011068 \n",
      "epsilon: 0.10050378152592121, \n",
      "relative_mean_error: 0.12819602167106686\n",
      "memory_usage: 1918394368\n",
      "\n",
      "\n",
      "############### FINAL VERSION - 10 alpha copies, 50 beta copies ###############\n",
      "mean: 105739989.6416, \n",
      "normalized_variance: 288129.85601787496 \n",
      "epsilon: 0.044946657497549475, \n",
      "relative_mean_error: 0.04189582588377476\n",
      "memory_usage: 1918398464\n",
      "\n",
      "\n",
      "############### FINAL VERSION - 25 alpha copies, 10 beta copies ###############\n",
      "mean: 105447863.52544002, \n",
      "normalized_variance: 882413.3439470641 \n",
      "epsilon: 0.06356417261637282, \n",
      "relative_mean_error: 0.07681670192135122\n",
      "memory_usage: 1918398464\n",
      "\n",
      "\n",
      "############### FINAL VERSION - 25 alpha copies, 50 beta copies ###############\n",
      "mean: 103851453.42572802, \n",
      "normalized_variance: 180517.71636763326 \n",
      "epsilon: 0.028426762180748057, \n",
      "relative_mean_error: 0.03526099239672004\n",
      "memory_usage: 1918398464\n",
      "\n",
      "\n",
      "############### FINAL VERSION - 50 alpha copies, 10 beta copies ###############\n",
      "mean: 105570246.46416001, \n",
      "normalized_variance: 609963.6322371423 \n",
      "epsilon: 0.044946657497549475, \n",
      "relative_mean_error: 0.06484224664880571\n",
      "memory_usage: 1918398464\n",
      "\n",
      "\n",
      "############### FINAL VERSION - 50 alpha copies, 50 beta copies ###############\n",
      "mean: 104776700.65807998, \n",
      "normalized_variance: 75373.6218748906 \n",
      "epsilon: 0.02010075630518424, \n",
      "relative_mean_error: 0.02197445861102146\n",
      "memory_usage: 1918398464\n",
      "\n",
      "\n"
     ]
    },
    {
     "data": {
      "image/png": "[encoded data removed]",
      "text/plain": [
       "<Figure size 1440x720 with 6 Axes>"
      ]
     },
     "metadata": {
      "needs_background": "light"
     },
     "output_type": "display_data"
    }
   ],
   "source": [
    "def main():\n",
    "    results, elements, counts, real_F2 = inititalization()\n",
    "    run_alpha_version(results, elements, counts)\n",
    "    run_beta_version(results, elements, counts)\n",
    "    run_final_version(results, elements, counts)\n",
    "    plot_results(results, real_F2)\n",
    "    \n",
    "main()"
   ]
  },
  {
   "cell_type": "markdown",
   "metadata": {
    "id": "oi9xpQc6Cy8W"
   },
   "source": [
    "As we can see from the plots, as the alpha and beta copies increase, the relative error, the normalized variance and the epsilon parameter are decreasing while the memory usage and the copies storage are increasing, which is exactly what we expected to see.\n",
    "\n",
    "Also, we can see by the Mean's plot, the estimator's mean converge to the real F2 (the red line) which is aligned with the teoretical material where the AMS estimator is an unbiased estimator for F2.\n",
    "\n",
    "(Note that the epsilon parameter was calculated for a Delta value of 99%, and the exact values for each combination is printed above)"
   ]
  }
 ],
 "metadata": {
  "colab": {
   "collapsed_sections": [],
   "name": "HW1.ipynb",
   "provenance": []
  },
  "kernelspec": {
   "display_name": "Python 3",
   "language": "python",
   "name": "python3"
  },
  "language_info": {
   "codemirror_mode": {
    "name": "ipython",
    "version": 3
   },
   "file_extension": ".py",
   "mimetype": "text/x-python",
   "name": "python",
   "nbconvert_exporter": "python",
   "pygments_lexer": "ipython3",
   "version": "3.8.8"
  }
 },
 "nbformat": 4,
 "nbformat_minor": 1
}
